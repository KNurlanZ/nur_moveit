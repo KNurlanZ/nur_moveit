{
  "nbformat": 4,
  "nbformat_minor": 0,
  "metadata": {
    "colab": {
      "name": "Lab6.ipynb",
      "provenance": [],
      "collapsed_sections": [],
      "authorship_tag": "ABX9TyNGAGTsBaVsZOm/1K2xfqYD"
    },
    "kernelspec": {
      "name": "python3",
      "display_name": "Python 3"
    },
    "language_info": {
      "name": "python"
    }
  },
  "cells": [
    {
      "cell_type": "code",
      "metadata": {
        "id": "YqiuEuVRjzjO"
      },
      "source": [
        "import numpy as np \n",
        "import keras\n",
        "from keras.models import Sequential\n",
        "from keras.layers import Dense, Flatten, Dropout\n",
        "from tensorflow.keras.optimizers import Adam\n",
        "from keras.utils import np_utils \n",
        "from keras import backend as K \n",
        "import pandas as pd\n",
        "from matplotlib import pyplot as plt\n",
        "from sklearn.model_selection import train_test_split"
      ],
      "execution_count": 22,
      "outputs": []
    },
    {
      "cell_type": "code",
      "metadata": {
        "id": "q4p0NTv6kRjR"
      },
      "source": [
        "data = pd.read_csv(\"dict.csv\", header = None, names = [\"Angles\", \"XY\"])"
      ],
      "execution_count": 6,
      "outputs": []
    },
    {
      "cell_type": "code",
      "metadata": {
        "colab": {
          "base_uri": "https://localhost:8080/",
          "height": 363
        },
        "id": "tM65K0uBkbiM",
        "outputId": "16f6a205-34ad-44c8-c9e1-222006f95e72"
      },
      "source": [
        "data.head(10)"
      ],
      "execution_count": 7,
      "outputs": [
        {
          "output_type": "execute_result",
          "data": {
            "text/html": [
              "<div>\n",
              "<style scoped>\n",
              "    .dataframe tbody tr th:only-of-type {\n",
              "        vertical-align: middle;\n",
              "    }\n",
              "\n",
              "    .dataframe tbody tr th {\n",
              "        vertical-align: top;\n",
              "    }\n",
              "\n",
              "    .dataframe thead th {\n",
              "        text-align: right;\n",
              "    }\n",
              "</style>\n",
              "<table border=\"1\" class=\"dataframe\">\n",
              "  <thead>\n",
              "    <tr style=\"text-align: right;\">\n",
              "      <th></th>\n",
              "      <th>Angles</th>\n",
              "      <th>XY</th>\n",
              "    </tr>\n",
              "  </thead>\n",
              "  <tbody>\n",
              "    <tr>\n",
              "      <th>0</th>\n",
              "      <td>(0.3514, -0.2365, -0.1968, -0.1949, -0.0863)</td>\n",
              "      <td>[ 3.3793 -1.2376  0.25  ]</td>\n",
              "    </tr>\n",
              "    <tr>\n",
              "      <th>1</th>\n",
              "      <td>(0.3094, 0.4925, 0.4629, -0.1565, 0.3523)</td>\n",
              "      <td>[2.061  2.5772 0.25  ]</td>\n",
              "    </tr>\n",
              "    <tr>\n",
              "      <th>2</th>\n",
              "      <td>(0.1157, -0.4121, 0.0578, 0.3772, 0.428)</td>\n",
              "      <td>[3.4905 0.9227 0.25  ]</td>\n",
              "    </tr>\n",
              "    <tr>\n",
              "      <th>3</th>\n",
              "      <td>(0.339, -0.1037, -0.2424, 0.2975, 0.0062)</td>\n",
              "      <td>[ 3.6355 -0.1753  0.25  ]</td>\n",
              "    </tr>\n",
              "    <tr>\n",
              "      <th>4</th>\n",
              "      <td>(0.2312, -0.4059, -0.0095, 0.4335, 0.4635)</td>\n",
              "      <td>[3.4413 0.9989 0.25  ]</td>\n",
              "    </tr>\n",
              "    <tr>\n",
              "      <th>5</th>\n",
              "      <td>(-0.4137, 0.2597, 0.4613, -0.3463, -0.0408)</td>\n",
              "      <td>[3.4743 0.8149 0.25  ]</td>\n",
              "    </tr>\n",
              "    <tr>\n",
              "      <th>6</th>\n",
              "      <td>(0.4124, 0.2546, -0.2049, -0.0035, 0.2845)</td>\n",
              "      <td>[3.3598 1.3618 0.25  ]</td>\n",
              "    </tr>\n",
              "    <tr>\n",
              "      <th>7</th>\n",
              "      <td>(0.273, -0.0413, -0.2412, 0.2292, -0.4313)</td>\n",
              "      <td>[ 3.2972 -1.5038  0.25  ]</td>\n",
              "    </tr>\n",
              "    <tr>\n",
              "      <th>8</th>\n",
              "      <td>(-0.4171, -0.0979, -0.3272, -0.2378, 0.1323)</td>\n",
              "      <td>[ 3.3774 -0.8196  0.25  ]</td>\n",
              "    </tr>\n",
              "    <tr>\n",
              "      <th>9</th>\n",
              "      <td>(-0.165, 0.3236, -0.2667, -0.0649, -0.0461)</td>\n",
              "      <td>[3.663  0.0381 0.25  ]</td>\n",
              "    </tr>\n",
              "  </tbody>\n",
              "</table>\n",
              "</div>"
            ],
            "text/plain": [
              "                                         Angles                         XY\n",
              "0  (0.3514, -0.2365, -0.1968, -0.1949, -0.0863)  [ 3.3793 -1.2376  0.25  ]\n",
              "1     (0.3094, 0.4925, 0.4629, -0.1565, 0.3523)     [2.061  2.5772 0.25  ]\n",
              "2      (0.1157, -0.4121, 0.0578, 0.3772, 0.428)     [3.4905 0.9227 0.25  ]\n",
              "3     (0.339, -0.1037, -0.2424, 0.2975, 0.0062)  [ 3.6355 -0.1753  0.25  ]\n",
              "4    (0.2312, -0.4059, -0.0095, 0.4335, 0.4635)     [3.4413 0.9989 0.25  ]\n",
              "5   (-0.4137, 0.2597, 0.4613, -0.3463, -0.0408)     [3.4743 0.8149 0.25  ]\n",
              "6    (0.4124, 0.2546, -0.2049, -0.0035, 0.2845)     [3.3598 1.3618 0.25  ]\n",
              "7    (0.273, -0.0413, -0.2412, 0.2292, -0.4313)  [ 3.2972 -1.5038  0.25  ]\n",
              "8  (-0.4171, -0.0979, -0.3272, -0.2378, 0.1323)  [ 3.3774 -0.8196  0.25  ]\n",
              "9   (-0.165, 0.3236, -0.2667, -0.0649, -0.0461)     [3.663  0.0381 0.25  ]"
            ]
          },
          "metadata": {},
          "execution_count": 7
        }
      ]
    },
    {
      "cell_type": "code",
      "metadata": {
        "id": "uxnKvZ9PkeGI"
      },
      "source": [
        "train = data['Angles'].to_numpy()\n",
        "labels = data['XY'].to_numpy()"
      ],
      "execution_count": 8,
      "outputs": []
    },
    {
      "cell_type": "code",
      "metadata": {
        "id": "92xMdql9kh52"
      },
      "source": [
        "X = list()\n",
        "Y = list()\n",
        "for i in range(len(train)):\n",
        "    labels[i] = labels[i].replace('   ', ' ')\n",
        "    labels[i] = labels[i].replace('  ', ' ')\n",
        "    labels[i] = labels[i].strip('[ ').strip(' ]')\n",
        "    train[i] = train[i].strip('(').strip(')')\n",
        "    result = [float(val) for val in train[i].split(',')]\n",
        "    X.append(result)\n",
        "    result = [float(val) for val in labels[i].split(' ')]\n",
        "    Y.append(result)\n",
        "  "
      ],
      "execution_count": 9,
      "outputs": []
    },
    {
      "cell_type": "code",
      "metadata": {
        "id": "zmqwrjQakjhL"
      },
      "source": [
        "X_train, X_test, y_train, y_test = train_test_split(np.asarray(X), np.asarray(Y), test_size=0.80)"
      ],
      "execution_count": 10,
      "outputs": []
    },
    {
      "cell_type": "code",
      "metadata": {
        "colab": {
          "base_uri": "https://localhost:8080/"
        },
        "id": "EoKXSyEJkoaV",
        "outputId": "50c67ffc-bbd6-473c-e93e-6a3b853adbdd"
      },
      "source": [
        "print(np.shape(X_train))\n",
        "print(np.shape(y_train))\n",
        "print(np.shape(X_test))\n",
        "print(np.shape(y_test))"
      ],
      "execution_count": 11,
      "outputs": [
        {
          "output_type": "stream",
          "name": "stdout",
          "text": [
            "(200, 5)\n",
            "(200, 3)\n",
            "(801, 5)\n",
            "(801, 3)\n"
          ]
        }
      ]
    },
    {
      "cell_type": "code",
      "metadata": {
        "id": "H_0x0pcckqdx"
      },
      "source": [
        "y_train = np.delete(y_train, 2, 1)\n",
        "y_test = np.delete(y_test, 2, 1)"
      ],
      "execution_count": 12,
      "outputs": []
    },
    {
      "cell_type": "code",
      "metadata": {
        "id": "U-rTmevlkt29"
      },
      "source": [
        "def rmse(y_true, y_pred):\n",
        "    return K.sqrt(K.mean(K.square(y_pred - y_true)))\n",
        "\n",
        "model = Sequential()\n",
        "model.add(Dense(10, input_dim =5, activation = 'relu'))\n",
        "model.add(Dense(16, activation = 'relu'))\n",
        "model.add(Dense(2, activation='linear'))\n",
        "model.compile(loss=rmse, optimizer=Adam(0.01))"
      ],
      "execution_count": 13,
      "outputs": []
    },
    {
      "cell_type": "code",
      "metadata": {
        "colab": {
          "base_uri": "https://localhost:8080/"
        },
        "id": "c88dIvcakw5U",
        "outputId": "836736ee-8f1f-4143-a65e-c4e3208df47d"
      },
      "source": [
        "model.summary()"
      ],
      "execution_count": 14,
      "outputs": [
        {
          "output_type": "stream",
          "name": "stdout",
          "text": [
            "Model: \"sequential\"\n",
            "_________________________________________________________________\n",
            " Layer (type)                Output Shape              Param #   \n",
            "=================================================================\n",
            " dense (Dense)               (None, 10)                60        \n",
            "                                                                 \n",
            " dense_1 (Dense)             (None, 16)                176       \n",
            "                                                                 \n",
            " dense_2 (Dense)             (None, 2)                 34        \n",
            "                                                                 \n",
            "=================================================================\n",
            "Total params: 270\n",
            "Trainable params: 270\n",
            "Non-trainable params: 0\n",
            "_________________________________________________________________\n"
          ]
        }
      ]
    },
    {
      "cell_type": "code",
      "metadata": {
        "colab": {
          "base_uri": "https://localhost:8080/"
        },
        "id": "Ncq2oerok0pP",
        "outputId": "a9524c8b-a964-41ed-a08e-7cfcb1980f04"
      },
      "source": [
        "model.fit(X_train, y_train, epochs = 15)"
      ],
      "execution_count": 15,
      "outputs": [
        {
          "output_type": "stream",
          "name": "stdout",
          "text": [
            "Epoch 1/15\n",
            "7/7 [==============================] - 1s 2ms/step - loss: 2.3348\n",
            "Epoch 2/15\n",
            "7/7 [==============================] - 0s 2ms/step - loss: 1.8634\n",
            "Epoch 3/15\n",
            "7/7 [==============================] - 0s 2ms/step - loss: 1.2254\n",
            "Epoch 4/15\n",
            "7/7 [==============================] - 0s 2ms/step - loss: 0.9839\n",
            "Epoch 5/15\n",
            "7/7 [==============================] - 0s 2ms/step - loss: 0.8951\n",
            "Epoch 6/15\n",
            "7/7 [==============================] - 0s 2ms/step - loss: 0.7919\n",
            "Epoch 7/15\n",
            "7/7 [==============================] - 0s 2ms/step - loss: 0.6751\n",
            "Epoch 8/15\n",
            "7/7 [==============================] - 0s 3ms/step - loss: 0.5417\n",
            "Epoch 9/15\n",
            "7/7 [==============================] - 0s 2ms/step - loss: 0.4262\n",
            "Epoch 10/15\n",
            "7/7 [==============================] - 0s 2ms/step - loss: 0.3852\n",
            "Epoch 11/15\n",
            "7/7 [==============================] - 0s 2ms/step - loss: 0.3471\n",
            "Epoch 12/15\n",
            "7/7 [==============================] - 0s 2ms/step - loss: 0.3329\n",
            "Epoch 13/15\n",
            "7/7 [==============================] - 0s 2ms/step - loss: 0.3103\n",
            "Epoch 14/15\n",
            "7/7 [==============================] - 0s 2ms/step - loss: 0.2941\n",
            "Epoch 15/15\n",
            "7/7 [==============================] - 0s 2ms/step - loss: 0.2945\n"
          ]
        },
        {
          "output_type": "execute_result",
          "data": {
            "text/plain": [
              "<keras.callbacks.History at 0x7f3de05b3310>"
            ]
          },
          "metadata": {},
          "execution_count": 15
        }
      ]
    },
    {
      "cell_type": "code",
      "metadata": {
        "colab": {
          "base_uri": "https://localhost:8080/"
        },
        "id": "g39SLMf-k3ba",
        "outputId": "35c1a8b4-153b-44eb-ffe7-3861a20cf6da"
      },
      "source": [
        "scores = model.evaluate(X_test, y_test, verbose=0) \n",
        "print(\"RMSE: %.2f\" % (scores))"
      ],
      "execution_count": 16,
      "outputs": [
        {
          "output_type": "stream",
          "name": "stdout",
          "text": [
            "RMSE: 0.29\n"
          ]
        }
      ]
    },
    {
      "cell_type": "code",
      "metadata": {
        "colab": {
          "base_uri": "https://localhost:8080/"
        },
        "id": "o_USugaOk877",
        "outputId": "fb7d9eb7-d19d-4edb-c4e3-739106ef1c71"
      },
      "source": [
        "print(model.predict(X_train[10].reshape(1,5)))\n",
        "print(y_train[10])"
      ],
      "execution_count": 17,
      "outputs": [
        {
          "output_type": "stream",
          "name": "stdout",
          "text": [
            "[[3.246313  1.4154907]]\n",
            "[3.2958 1.3238]\n"
          ]
        }
      ]
    },
    {
      "cell_type": "code",
      "metadata": {
        "id": "OucU7gvblL9r"
      },
      "source": [
        "X = list()\n",
        "Y = list()\n",
        "for i in range(len(train)):\n",
        "    labels[i] = labels[i].replace('   ', ' ')\n",
        "    labels[i] = labels[i].replace('  ', ' ')\n",
        "    labels[i] = labels[i].strip('[ ').strip(' ]')\n",
        "    train[i] = train[i].strip('(').strip(')')\n",
        "    result = [float(val) for val in train[i].split(',')]\n",
        "    X.append(result)\n",
        "    result = [float(val) for val in labels[i].split(' ')]\n",
        "    Y.append(result)"
      ],
      "execution_count": 18,
      "outputs": []
    },
    {
      "cell_type": "code",
      "metadata": {
        "id": "iEX3SJtIlQi3"
      },
      "source": [
        "def rmse(y_true, y_pred):\n",
        "    return K.sqrt(K.mean(K.square(y_pred - y_true)))\n",
        "\n",
        "model = Sequential()\n",
        "model.add(Dense(10, input_dim =5, activation = 'relu'))\n",
        "model.add(Dense(16, activation = 'relu'))\n",
        "model.add(Dense(2, activation='linear'))\n",
        "model.compile(loss=rmse, optimizer=Adam(0.01))"
      ],
      "execution_count": 19,
      "outputs": []
    },
    {
      "cell_type": "code",
      "metadata": {
        "id": "LLRc7ZSllVIA"
      },
      "source": [
        "test_size_rmse = []\n",
        "n = range(100, 5100, 100)\n",
        "for i in range(1,51):\n",
        "    X_train, X_test, y_train, y_test = train_test_split(np.asarray(X[0:i*100]), np.asarray(Y[0:i*100]), test_size=0.80)\n",
        "    y_train = np.delete(y_train, 2, 1)\n",
        "    y_test = np.delete(y_test, 2, 1)\n",
        "    model.fit(X_train, y_train, epochs = 10, verbose = 0)\n",
        "    scores = model.evaluate(X_test, y_test, verbose=0) \n",
        "    test_size_rmse.append(scores)\n",
        "    "
      ],
      "execution_count": 20,
      "outputs": []
    },
    {
      "cell_type": "code",
      "metadata": {
        "colab": {
          "base_uri": "https://localhost:8080/",
          "height": 295
        },
        "id": "PROyn_4ylZmV",
        "outputId": "f743fc08-1514-4f0d-9a4a-ba6ee623e4d0"
      },
      "source": [
        "plt.plot(n,test_size_rmse)\n",
        "plt.xlabel(\"Size of the dataset\")\n",
        "plt.ylabel(\"RMSE value\")\n",
        "plt.title(\"Correlation plot between the size of the dataset and resulting RMSE\")\n",
        "plt.show()"
      ],
      "execution_count": 23,
      "outputs": [
        {
          "output_type": "display_data",
          "data": {
            "image/png": "[encoded data removed]",
            "text/plain": [
              "<Figure size 432x288 with 1 Axes>"
            ]
          },
          "metadata": {
            "needs_background": "light"
          }
        }
      ]
    },
    {
      "cell_type": "code",
      "metadata": {
        "colab": {
          "base_uri": "https://localhost:8080/"
        },
        "id": "N-ZyqIlglrFc",
        "outputId": "8cbc024f-58b3-4d01-d297-653f07fe1bfa"
      },
      "source": [
        "model = Sequential()\n",
        "model.add(Dense(10, input_dim =5, activation = 'relu'))\n",
        "model.add(Dense(16, activation = 'relu'))\n",
        "model.add(Dense(2, activation='linear'))\n",
        "model.compile(loss='mean_squared_logarithmic_error', optimizer=Adam(0.01))\n",
        "\n",
        "X_train, X_test, y_train, y_test = train_test_split(np.asarray(X), np.asarray(Y), test_size=0.80)\n",
        "y_train = np.delete(y_train, 2, 1)\n",
        "y_test = np.delete(y_test, 2, 1)\n",
        "model.fit(X_train, y_train, epochs = 10, verbose = 0)\n",
        "scores_msle = model.evaluate(X_test, y_test, verbose=0) \n",
        "print(\"RMSE: %.5f\" % (scores_msle))"
      ],
      "execution_count": 24,
      "outputs": [
        {
          "output_type": "stream",
          "name": "stdout",
          "text": [
            "RMSE: 0.04898\n"
          ]
        }
      ]
    },
    {
      "cell_type": "code",
      "metadata": {
        "colab": {
          "base_uri": "https://localhost:8080/"
        },
        "id": "w21VskSJlwNz",
        "outputId": "815a6d04-198f-490f-f61e-3bb08d402751"
      },
      "source": [
        "model = Sequential()\n",
        "model.add(Dense(10, input_dim =5, activation = 'relu'))\n",
        "model.add(Dense(16, activation = 'relu'))\n",
        "model.add(Dense(2, activation='linear'))\n",
        "model.compile(loss='mean_absolute_error', optimizer=Adam(0.01))\n",
        "\n",
        "X_train, X_test, y_train, y_test = train_test_split(np.asarray(X), np.asarray(Y), test_size=0.80)\n",
        "y_train = np.delete(y_train, 2, 1)\n",
        "y_test = np.delete(y_test, 2, 1)\n",
        "model.fit(X_train, y_train, epochs = 10, verbose = 0)\n",
        "scores_mae = model.evaluate(X_test, y_test, verbose=0) \n",
        "print(\"RMSE: %.5f\" % (scores_mae))"
      ],
      "execution_count": 25,
      "outputs": [
        {
          "output_type": "stream",
          "name": "stdout",
          "text": [
            "RMSE: 0.23167\n"
          ]
        }
      ]
    },
    {
      "cell_type": "code",
      "metadata": {
        "colab": {
          "base_uri": "https://localhost:8080/"
        },
        "id": "-6-56CFGlzNx",
        "outputId": "a47de563-a1ce-4e14-fa43-6b8013399d4e"
      },
      "source": [
        "model = Sequential()\n",
        "model.add(Dense(10, input_dim =5, activation = 'relu'))\n",
        "model.add(Dense(16, activation = 'relu'))\n",
        "model.add(Dense(2, activation='linear'))\n",
        "model.compile(loss='mean_squared_error', optimizer=Adam(0.01))\n",
        "\n",
        "X_train, X_test, y_train, y_test = train_test_split(np.asarray(X), np.asarray(Y), test_size=0.80)\n",
        "y_train = np.delete(y_train, 2, 1)\n",
        "y_test = np.delete(y_test, 2, 1)\n",
        "model.fit(X_train, y_train, epochs = 10, verbose = 0)\n",
        "scores_mse = model.evaluate(X_test, y_test, verbose=0) \n",
        "print(\"RMSE: %.5f\" % (scores_mse))"
      ],
      "execution_count": 26,
      "outputs": [
        {
          "output_type": "stream",
          "name": "stdout",
          "text": [
            "RMSE: 0.11077\n"
          ]
        }
      ]
    },
    {
      "cell_type": "code",
      "metadata": {
        "colab": {
          "base_uri": "https://localhost:8080/"
        },
        "id": "vP8_sjRHl2Cl",
        "outputId": "d3337e0a-46a1-43fc-bb8f-c1140f720ea3"
      },
      "source": [
        "def rmse(y_true, y_pred):\n",
        "    return K.sqrt(K.mean(K.square(y_pred - y_true)))\n",
        "\n",
        "model = Sequential()\n",
        "model.add(Dense(10, input_dim =5, activation = 'relu'))\n",
        "model.add(Dense(16, activation = 'relu'))\n",
        "model.add(Dense(2, activation='linear'))\n",
        "model.compile(loss=rmse, optimizer=Adam(0.01))\n",
        "\n",
        "X_train, X_test, y_train, y_test = train_test_split(np.asarray(X), np.asarray(Y), test_size=0.80)\n",
        "y_train = np.delete(y_train, 2, 1)\n",
        "y_test = np.delete(y_test, 2, 1)\n",
        "model.fit(X_train, y_train, epochs = 10, verbose = 0)\n",
        "scores = model.evaluate(X_test, y_test, verbose=0) \n",
        "print(\"RMSE: %.5f\" % (scores))"
      ],
      "execution_count": 27,
      "outputs": [
        {
          "output_type": "stream",
          "name": "stdout",
          "text": [
            "RMSE: 0.47428\n"
          ]
        }
      ]
    },
    {
      "cell_type": "code",
      "metadata": {
        "colab": {
          "base_uri": "https://localhost:8080/",
          "height": 313
        },
        "id": "52NIEA8Ul6s6",
        "outputId": "7783d25e-62ab-49ed-cc8f-aa91c1cb2cd2"
      },
      "source": [
        "error_names = ['RMSE','MSLE','MAE','MSE']\n",
        "errors = [scores, scores_msle, scores_mae, scores_mse]\n",
        "\n",
        "plt.bar(range(len(error_names)), errors, color = 'maroon')\n",
        "plt.xticks(range(len(error_names)), error_names, rotation='vertical')\n",
        "plt.xlabel(\"Types of loss functions\")\n",
        "plt.ylabel(\"RMSE value\")\n",
        "plt.title(\"RMSE values of different types of loss functions\")\n",
        "plt.show()"
      ],
      "execution_count": 28,
      "outputs": [
        {
          "output_type": "display_data",
          "data": {
            "image/png": "[encoded data removed]",
            "text/plain": [
              "<Figure size 432x288 with 1 Axes>"
            ]
          },
          "metadata": {
            "needs_background": "light"
          }
        }
      ]
    },
    {
      "cell_type": "code",
      "metadata": {
        "colab": {
          "base_uri": "https://localhost:8080/"
        },
        "id": "tGq3o19cl--f",
        "outputId": "114d9043-4b65-455f-c713-f484098ef058"
      },
      "source": [
        "layers_scores = []\n",
        "\n",
        "for i in range(1,30):\n",
        "    model = Sequential()\n",
        "    numb = 0\n",
        "    model.add(Dense(10, input_dim =5, activation = 'relu'))\n",
        "    numb += 1\n",
        "    for r in range(1,i):\n",
        "        model.add(Dense(16, activation = 'relu'))\n",
        "        numb += 1\n",
        "    model.add(Dense(2, activation='linear'))\n",
        "    numb += 1\n",
        "    model.compile(loss='mean_squared_logarithmic_error', optimizer=Adam(0.01))\n",
        "\n",
        "    X_train, X_test, y_train, y_test = train_test_split(np.asarray(X), np.asarray(Y), test_size=0.80)\n",
        "    y_train = np.delete(y_train, 2, 1)\n",
        "    y_test = np.delete(y_test, 2, 1)\n",
        "    model.fit(X_train, y_train, epochs = 10, verbose = 0)\n",
        "    score = model.evaluate(X_test, y_test, verbose=0) \n",
        "    print(\"Numer of layers: %d |   RMSE: %.5f\" % (numb, score))\n",
        "    layers_scores.append(score)"
      ],
      "execution_count": 29,
      "outputs": [
        {
          "output_type": "stream",
          "name": "stdout",
          "text": [
            "Numer of layers: 2 |   RMSE: 0.02464\n",
            "Numer of layers: 3 |   RMSE: 0.02195\n",
            "Numer of layers: 4 |   RMSE: 0.13335\n",
            "Numer of layers: 5 |   RMSE: 0.01019\n",
            "Numer of layers: 6 |   RMSE: 0.01096\n",
            "Numer of layers: 7 |   RMSE: 0.00878\n",
            "Numer of layers: 8 |   RMSE: 0.13627\n",
            "Numer of layers: 9 |   RMSE: 0.12924\n",
            "Numer of layers: 10 |   RMSE: 0.07073\n",
            "Numer of layers: 11 |   RMSE: 0.05674\n",
            "Numer of layers: 12 |   RMSE: 1.08168\n",
            "Numer of layers: 13 |   RMSE: 0.08131\n",
            "Numer of layers: 14 |   RMSE: 0.12631\n",
            "Numer of layers: 15 |   RMSE: 0.13700\n",
            "Numer of layers: 16 |   RMSE: 0.13020\n",
            "Numer of layers: 17 |   RMSE: 0.05010\n",
            "Numer of layers: 18 |   RMSE: 0.12858\n",
            "Numer of layers: 19 |   RMSE: 0.13179\n",
            "Numer of layers: 20 |   RMSE: 0.12868\n",
            "Numer of layers: 21 |   RMSE: 0.13585\n",
            "Numer of layers: 22 |   RMSE: 0.08297\n",
            "Numer of layers: 23 |   RMSE: 1.19854\n",
            "Numer of layers: 24 |   RMSE: 0.12828\n",
            "Numer of layers: 25 |   RMSE: 1.15977\n",
            "Numer of layers: 26 |   RMSE: 0.13765\n",
            "Numer of layers: 27 |   RMSE: 0.12745\n",
            "Numer of layers: 28 |   RMSE: 0.12661\n",
            "Numer of layers: 29 |   RMSE: 0.13759\n",
            "Numer of layers: 30 |   RMSE: 0.08576\n"
          ]
        }
      ]
    },
    {
      "cell_type": "code",
      "metadata": {
        "colab": {
          "base_uri": "https://localhost:8080/",
          "height": 295
        },
        "id": "W47tKsnGmByk",
        "outputId": "72ebfdcc-8ea6-4f6f-e1f6-526d7d45b239"
      },
      "source": [
        "numb_arr = range(2,31)\n",
        "\n",
        "plt.plot(numb_arr,layers_scores)\n",
        "plt.xlabel(\"Number of layers in the model\")\n",
        "plt.ylabel(\"RMSE value\")\n",
        "plt.title(\"Correlation plot between the number of layers in a model and resulting RMSE\")\n",
        "plt.show()"
      ],
      "execution_count": 30,
      "outputs": [
        {
          "output_type": "display_data",
          "data": {
            "image/png": "[encoded data removed]",
            "text/plain": [
              "<Figure size 432x288 with 1 Axes>"
            ]
          },
          "metadata": {
            "needs_background": "light"
          }
        }
      ]
    },
    {
      "cell_type": "code",
      "metadata": {
        "colab": {
          "base_uri": "https://localhost:8080/"
        },
        "id": "zzphbmXnmEdH",
        "outputId": "ebfb26d8-f97b-4890-b842-c214753f7c33"
      },
      "source": [
        "model = Sequential()\n",
        "model.add(Dense(10, input_dim =5, activation = 'relu'))\n",
        "model.add(Dense(16, activation = 'relu'))\n",
        "model.add(Dense(16, activation = 'relu'))\n",
        "model.add(Dense(2, activation='linear'))\n",
        "model.compile(loss='mean_squared_logarithmic_error', optimizer=Adam(0.01))\n",
        "\n",
        "X_train, X_test, y_train, y_test = train_test_split(np.asarray(X), np.asarray(Y), test_size=0.80)\n",
        "y_train = np.delete(y_train, 2, 1)\n",
        "y_test = np.delete(y_test, 2, 1)\n",
        "model.fit(X_train, y_train, epochs = 10, verbose = 0)\n",
        "scores_adam = model.evaluate(X_test, y_test, verbose=0) \n",
        "print(\"RMSE: %.5f\" % (scores_adam))"
      ],
      "execution_count": 31,
      "outputs": [
        {
          "output_type": "stream",
          "name": "stdout",
          "text": [
            "RMSE: 0.01456\n"
          ]
        }
      ]
    },
    {
      "cell_type": "code",
      "metadata": {
        "colab": {
          "base_uri": "https://localhost:8080/"
        },
        "id": "ti__VRM5mHci",
        "outputId": "e938b015-ddc5-4bd2-9343-c24462eb7ea9"
      },
      "source": [
        "model = Sequential()\n",
        "model.add(Dense(10, input_dim =5, activation = 'relu'))\n",
        "model.add(Dense(16, activation = 'relu'))\n",
        "model.add(Dense(16, activation = 'relu'))\n",
        "model.add(Dense(2, activation='linear'))\n",
        "model.compile(loss='mean_squared_logarithmic_error', optimizer='sgd')\n",
        "\n",
        "X_train, X_test, y_train, y_test = train_test_split(np.asarray(X), np.asarray(Y), test_size=0.80)\n",
        "y_train = np.delete(y_train, 2, 1)\n",
        "y_test = np.delete(y_test, 2, 1)\n",
        "model.fit(X_train, y_train, epochs = 10, verbose = 0)\n",
        "scores_adam = model.evaluate(X_test, y_test, verbose=0) \n",
        "print(\"RMSE: %.5f\" % (scores_adam))"
      ],
      "execution_count": 32,
      "outputs": [
        {
          "output_type": "stream",
          "name": "stdout",
          "text": [
            "RMSE: 0.26282\n"
          ]
        }
      ]
    },
    {
      "cell_type": "code",
      "metadata": {
        "colab": {
          "base_uri": "https://localhost:8080/"
        },
        "id": "WCSOuSDXmJ-w",
        "outputId": "fd95d950-05a3-440a-e4fe-dc25d5c36b69"
      },
      "source": [
        "model = Sequential()\n",
        "model.add(Dense(10, input_dim =5, activation = 'relu'))\n",
        "model.add(Dense(16, activation = 'relu'))\n",
        "model.add(Dense(16, activation = 'relu'))\n",
        "model.add(Dense(2, activation='linear'))\n",
        "model.compile(loss='mean_squared_logarithmic_error', optimizer='Adagrad')\n",
        "\n",
        "X_train, X_test, y_train, y_test = train_test_split(np.asarray(X), np.asarray(Y), test_size=0.80)\n",
        "y_train = np.delete(y_train, 2, 1)\n",
        "y_test = np.delete(y_test, 2, 1)\n",
        "model.fit(X_train, y_train, epochs = 10, verbose = 0)\n",
        "scores_adam = model.evaluate(X_test, y_test, verbose=0) \n",
        "print(\"RMSE: %.5f\" % (scores_adam))"
      ],
      "execution_count": 33,
      "outputs": [
        {
          "output_type": "stream",
          "name": "stdout",
          "text": [
            "RMSE: 1.07299\n"
          ]
        }
      ]
    },
    {
      "cell_type": "code",
      "metadata": {
        "colab": {
          "base_uri": "https://localhost:8080/"
        },
        "id": "UtgOuqoFmN7p",
        "outputId": "25bd309f-dce3-4942-a926-e1248011d8a8"
      },
      "source": [
        "model = Sequential()\n",
        "model.add(Dense(10, input_dim =5, activation = 'relu'))\n",
        "model.add(Dense(16, activation = 'relu'))\n",
        "model.add(Dense(16, activation = 'relu'))\n",
        "model.add(Dense(2, activation='linear'))\n",
        "model.compile(loss='mean_squared_logarithmic_error', optimizer='Adadelta')\n",
        "\n",
        "X_train, X_test, y_train, y_test = train_test_split(np.asarray(X), np.asarray(Y), test_size=0.80)\n",
        "y_train = np.delete(y_train, 2, 1)\n",
        "y_test = np.delete(y_test, 2, 1)\n",
        "model.fit(X_train, y_train, epochs = 10, verbose = 0)\n",
        "scores_adam = model.evaluate(X_test, y_test, verbose=0) \n",
        "print(\"RMSE: %.5f\" % (scores_adam))"
      ],
      "execution_count": 34,
      "outputs": [
        {
          "output_type": "stream",
          "name": "stdout",
          "text": [
            "RMSE: 1.18826\n"
          ]
        }
      ]
    },
    {
      "cell_type": "code",
      "metadata": {
        "colab": {
          "base_uri": "https://localhost:8080/"
        },
        "id": "Z_JrGSUpmPWq",
        "outputId": "3c4614b8-4f0a-40da-8a11-777c0d3afe40"
      },
      "source": [
        "model = Sequential()\n",
        "model.add(Dense(10, input_dim =5, activation = 'relu'))\n",
        "model.add(Dense(16, activation = 'relu'))\n",
        "model.add(Dense(16, activation = 'relu'))\n",
        "model.add(Dense(2, activation='linear'))\n",
        "model.compile(loss='mean_squared_logarithmic_error', optimizer='RMSprop')\n",
        "\n",
        "X_train, X_test, y_train, y_test = train_test_split(np.asarray(X), np.asarray(Y), test_size=0.80)\n",
        "y_train = np.delete(y_train, 2, 1)\n",
        "y_test = np.delete(y_test, 2, 1)\n",
        "model.fit(X_train, y_train, epochs = 10, verbose = 0)\n",
        "scores_adam = model.evaluate(X_test, y_test, verbose=0) \n",
        "print(\"RMSE: %.5f\" % (scores_adam))"
      ],
      "execution_count": 35,
      "outputs": [
        {
          "output_type": "stream",
          "name": "stdout",
          "text": [
            "RMSE: 0.36993\n"
          ]
        }
      ]
    },
    {
      "cell_type": "markdown",
      "metadata": {
        "id": "5JJgT9e3mqYm"
      },
      "source": [
        "Old RMSE=0.29 New RMSE=0.01456 <br>\n",
        "Number of layers: 5<br>\n",
        "Loss function: MSLE - Mean Squared Logarithmic Error"
      ]
    }
  ]
}